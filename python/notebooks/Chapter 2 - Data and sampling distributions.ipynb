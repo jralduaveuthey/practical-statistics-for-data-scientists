{
  "nbformat": 4,
  "nbformat_minor": 0,
  "metadata": {
    "kernelspec": {
      "display_name": "Python 3",
      "language": "python",
      "name": "python3"
    },
    "language_info": {
      "codemirror_mode": {
        "name": "ipython",
        "version": 3
      },
      "file_extension": ".py",
      "mimetype": "text/x-python",
      "name": "python",
      "nbconvert_exporter": "python",
      "pygments_lexer": "ipython3",
      "version": "3.8.2"
    },
    "colab": {
      "name": "Chapter 2 - Data and sampling distributions.ipynb",
      "provenance": []
    }
  },
  "cells": [
    {
      "cell_type": "markdown",
      "metadata": {
        "id": "lUYJvq5_QPzb"
      },
      "source": [
        "# Practical Statistics for Data Scientists (Python)\n",
        "# Chapter 2. Data and Sampling Distributions\n",
        "> (c) 2019 Peter C. Bruce, Andrew Bruce, Peter Gedeck"
      ]
    },
    {
      "cell_type": "markdown",
      "metadata": {
        "id": "_6iouqMAQPzh"
      },
      "source": [
        "###### Import required Python packages:"
      ]
    },
    {
      "cell_type": "code",
      "metadata": {
        "execution": {
          "iopub.execute_input": "2021-02-23T13:54:55.851963Z",
          "iopub.status.busy": "2021-02-23T13:54:55.851287Z",
          "iopub.status.idle": "2021-02-23T13:54:56.568859Z",
          "shell.execute_reply": "2021-02-23T13:54:56.568459Z"
        },
        "id": "03kbBH7MQPzi"
      },
      "source": [
        "%matplotlib inline\n",
        "\n",
        "from pathlib import Path\n",
        "import pandas as pd\n",
        "import numpy as np\n",
        "from scipy import stats\n",
        "from sklearn.utils import resample\n",
        "\n",
        "import seaborn as sns\n",
        "import matplotlib.pylab as plt"
      ],
      "execution_count": null,
      "outputs": []
    },
    {
      "cell_type": "code",
      "metadata": {
        "execution": {
          "iopub.execute_input": "2021-02-23T13:54:56.573959Z",
          "iopub.status.busy": "2021-02-23T13:54:56.572795Z",
          "iopub.status.idle": "2021-02-23T13:54:56.698941Z",
          "shell.execute_reply": "2021-02-23T13:54:56.698404Z"
        },
        "id": "4wIQ5QMvQPzk"
      },
      "source": [
        "try:\n",
        "    import common\n",
        "    DATA = common.dataDirectory()\n",
        "except ImportError:\n",
        "    DATA = Path().resolve() / 'data'"
      ],
      "execution_count": null,
      "outputs": []
    },
    {
      "cell_type": "markdown",
      "metadata": {
        "id": "Fo4nkNEYQPzk"
      },
      "source": [
        "###### Define paths to data sets. If you don't keep your data in the same directory as the code,\n",
        "adapt the path names."
      ]
    },
    {
      "cell_type": "code",
      "metadata": {
        "execution": {
          "iopub.execute_input": "2021-02-23T13:54:56.702046Z",
          "iopub.status.busy": "2021-02-23T13:54:56.701580Z",
          "iopub.status.idle": "2021-02-23T13:54:56.704296Z",
          "shell.execute_reply": "2021-02-23T13:54:56.703698Z"
        },
        "id": "JGC2375tQPzl"
      },
      "source": [
        "LOANS_INCOME_CSV = DATA / 'loans_income.csv'\n",
        "SP500_DATA_CSV = DATA / 'sp500_data.csv.gz'"
      ],
      "execution_count": null,
      "outputs": []
    },
    {
      "cell_type": "markdown",
      "metadata": {
        "id": "aUiulprDQPzm"
      },
      "source": [
        "Figure 2.1 (below):\n",
        "Left: Population - theoretical - strong assumptions\n",
        "Right: Sample - practical - more modern approaches"
      ]
    },
    {
      "cell_type": "code",
      "metadata": {
        "execution": {
          "iopub.execute_input": "2021-02-23T13:54:56.719667Z",
          "iopub.status.busy": "2021-02-23T13:54:56.708348Z",
          "iopub.status.idle": "2021-02-23T13:54:56.796509Z",
          "shell.execute_reply": "2021-02-23T13:54:56.796191Z"
        },
        "id": "eTHxoNjZQPzm",
        "outputId": "5dddda2c-dc60-42bf-b2c8-a659cda6b5e0"
      },
      "source": [
        "np.random.seed(seed=3) #You can use any integer values as long as you remember the number used\n",
        "# for initializing the seed for future reference.\n",
        "x = np.linspace(-3, 3, 300)\n",
        "xsample = stats.norm.rvs(size=1000) #take a random sample from a normal continuous random variable\n",
        "\n",
        "fig, axes = plt.subplots(ncols=2, figsize=(5, 1.5)) # 2 Subplots\n",
        "\n",
        "ax = axes[0]\n",
        "ax.fill(x, stats.norm.pdf(x)) # density of a normal continuous random variable\n",
        "ax.set_axis_off()\n",
        "ax.set_xlim(-3, 3)\n",
        "\n",
        "ax = axes[1]\n",
        "ax.hist(xsample, bins=30)\n",
        "ax.set_axis_off()\n",
        "ax.set_xlim(-3, 3)\n",
        "ax.set_position\n",
        "#plt.subplots_adjust(left=0, bottom=0, right=1, top=1, wspace=0, hspace=0)\n",
        "\n",
        "plt.show()"
      ],
      "execution_count": null,
      "outputs": [
        {
          "data": {
            "text/plain": "<Figure size 360x108 with 2 Axes>",
            "image/png": "[encoded data removed]"
          },
          "metadata": {
            "needs_background": "light"
          },
          "output_type": "display_data"
        }
      ]
    },
    {
      "cell_type": "markdown",
      "metadata": {
        "collapsed": false,
        "id": "X62y8LmUQPzo"
      },
      "source": [
        "# Random Sampling and Sample Bias\n",
        "Key concepts are:\n",
        "- Sample\n",
        "- Population\n",
        "- N(n): the size of the population\n",
        "- Random sampling\n",
        "- Stratified Sampling: dividing the population into strata and randomly sampling from each strata\n",
        "- Stratum: a homogeneous subgroup of a population with common characteristics\n",
        "- Bias: systematic error\n",
        "- Sample bias: sample that misrepresents the population. Nonrandom\n",
        "\n",
        "Data Quality > Data Quantity. Data Quality = complete + consistent in format + clean + accurate +\n",
        "*representative*"
      ]
    },
    {
      "cell_type": "markdown",
      "metadata": {
        "collapsed": false,
        "id": "mQ88nj6QQPzo"
      },
      "source": [
        "## Bias\n",
        "random error != bias.\n",
        "Note: when a result suggests a bias it is often an indicator that the model has been misspecified\n",
        "or an important variable left out"
      ]
    },
    {
      "cell_type": "markdown",
      "metadata": {
        "collapsed": false,
        "id": "XVKymf0sQPzp"
      },
      "source": [
        "## Random selection\n",
        "Example of George Gallup's big (data) fail"
      ]
    },
    {
      "cell_type": "markdown",
      "metadata": {
        "collapsed": false,
        "id": "i2GG16hXQPzp"
      },
      "source": [
        "## Size Versus Quality: When Does Size Matter?\n",
        "Sometimes smaller is better: +time and +effort on random sampling => -bias +attention to\n",
        "data exploration and data quality.\n",
        "\n",
        "When are massive amounts of data needed? when the data is *big* and *sparse* (most of\n",
        "the elements are zero). Example: Google queries\n",
        "where the *pertinent records* are a few thousand but trillions of data points are needed to get them."
      ]
    },
    {
      "cell_type": "markdown",
      "metadata": {
        "collapsed": false,
        "id": "43CfEz_uQPzp"
      },
      "source": [
        "## Sample Mean Versus Population Mean\n",
        "$\\bar x$ != $\\eta$\n",
        "$\\bar x$ is observed\n",
        "$\\eta$ is inferred"
      ]
    },
    {
      "cell_type": "markdown",
      "metadata": {
        "collapsed": false,
        "id": "CyQiGXnjQPzq"
      },
      "source": [
        "# Selection Bias\n",
        "Key concepts are:\n",
        "- Selection bias: selectively choosing data in a way that leads to a conclusion\n",
        "that is misleading or ephemeral\n",
        "- Data snooping: hunting through data in search of something interesting\n",
        "- Vast search effect: run different models and ask different questions with a large\n",
        "data set till you find something \"interesting\"\n",
        "\n",
        "Specifying a hypothesis (exploratory study) and then collecting data following randomization and random sampling\n",
        "principles ensures against bias (confirmatory study)."
      ]
    },
    {
      "cell_type": "markdown",
      "metadata": {
        "collapsed": false,
        "id": "gyYTdargQPzq"
      },
      "source": [
        "## Regression to the Mean\n",
        "Extreme observations tend to be followed by more central ones.\n",
        "Good player = Skill (+-constant) + Luck (random)"
      ]
    },
    {
      "cell_type": "markdown",
      "metadata": {
        "id": "qMpViUH3QPzq"
      },
      "source": [
        "# Sampling Distribution of a Statistic\n",
        "Key concepts are:\n",
        "- Sample statistic: a metric calculated for a sample of data drawn from a larger population.\n",
        "- Data distribution: the frequency distribution of individual *values* in a data set.\n",
        "- Sampling distribution: the frequency distribution of a *sample statistic* over many samples or resamples. For\n",
        "example a normal distribution of the mean over many samples\n",
        "- Central limit theorem: the tendency of the sampling distribution to take on a normal shape as sample size rises\n",
        "- Standard Error: the variability (standard deviation) of a *sample statistic* (like the mean) over many samples. !! it\n",
        "shall not be confused with *standard deviation*, which refers to variability of individual data values)\n",
        "\n",
        "| Standard   |      variability of       |\n",
        "|----------|:-------------:|\n",
        "| Deviation | individual values  |\n",
        "| Error |    a *sample statistic*  |"
      ]
    },
    {
      "cell_type": "markdown",
      "metadata": {
        "collapsed": false,
        "id": "RCuZtdCcQPzr"
      },
      "source": [
        "## Central Limit Theorem\n",
        "The distribution of a sample statistic like the mean is likely to be more bell-shaped than the distribution of\n",
        "the data itself. The bigger the sample the more bell-shaped and the narrower the distribution of the sample statistic.\n",
        "Assumption for the CLT to work: big sample size and the original data is not too far from a bell-shaped curve."
      ]
    },
    {
      "cell_type": "markdown",
      "metadata": {
        "collapsed": false,
        "id": "FJBAc6lWQPzr"
      },
      "source": [
        "## Standard Error\n",
        "Standard error is the standard deviation divided by the square root of the sample size => to reduce the standard\n",
        "error by factor of 2 you need to increase the sample size by a factor of 4."
      ]
    },
    {
      "cell_type": "code",
      "metadata": {
        "execution": {
          "iopub.execute_input": "2021-02-23T13:54:56.801707Z",
          "iopub.status.busy": "2021-02-23T13:54:56.801291Z",
          "iopub.status.idle": "2021-02-23T13:54:58.380821Z",
          "shell.execute_reply": "2021-02-23T13:54:58.380330Z"
        },
        "scrolled": false,
        "id": "Fm9yjtMtQPzr",
        "outputId": "a52fb963-2235-423a-f118-c72a93d72349"
      },
      "source": [
        "loans_income = pd.read_csv(LOANS_INCOME_CSV, squeeze=True)\n",
        "\n",
        "sample_data = pd.DataFrame({\n",
        "    'income': loans_income.sample(1000),\n",
        "    'type': 'Data',\n",
        "})\n",
        "\n",
        "sample_mean_05 = pd.DataFrame({\n",
        "    'income': [loans_income.sample(5).mean() for _ in range(1000)],\n",
        "    'type': 'Mean of 5',\n",
        "})\n",
        "\n",
        "sample_mean_20 = pd.DataFrame({\n",
        "    'income': [loans_income.sample(20).mean() for _ in range(1000)],\n",
        "    'type': 'Mean of 20',\n",
        "})\n",
        "\n",
        "results = pd.concat([sample_data, sample_mean_05, sample_mean_20])\n",
        "print(results.head()) # TODO: why does it only print the head?"
      ],
      "execution_count": null,
      "outputs": [
        {
          "name": "stdout",
          "output_type": "stream",
          "text": [
            "         income  type\n",
            "29486   30000.0  Data\n",
            "1890    60000.0  Data\n",
            "14204  120000.0  Data\n",
            "45735   45000.0  Data\n",
            "44286   48150.0  Data\n"
          ]
        }
      ]
    },
    {
      "cell_type": "code",
      "metadata": {
        "pycharm": {
          "name": "#%%\n"
        },
        "id": "saNcKNCcQPzs"
      },
      "source": [
        "# TODO: how does it know that it has to print 3 plots? or that \"results\" comes in 3 parts?\n",
        "g = sns.FacetGrid(results, col='type', col_wrap=1, height=2, aspect=2)\n",
        "g.map(plt.hist, 'income', range=[0, 200000], bins=40)\n",
        "g.set_axis_labels('Income', 'Count')\n",
        "g.set_titles('{col_name}')\n",
        "\n",
        "plt.tight_layout()\n",
        "plt.show()\n"
      ],
      "execution_count": null,
      "outputs": []
    },
    {
      "cell_type": "markdown",
      "metadata": {
        "id": "0ewQMWVZQPzs"
      },
      "source": [
        "# The Bootstrap\n",
        "Collecting new samples from the data to estimate the standard error is very wasteful so we often use bootstrap.\n",
        "It is the standard ways to estimate the standard error. It can be used for virtually any statistic and does not\n",
        "rely on CLT.\n",
        "It is an easy and effective way to estimate the sampling distribution of a statistic and there is no assumptions\n",
        "about the data or the sample statistic being normally distributed (having bell-shape curve).\n",
        "!!! Bootstraping does not compensate for a small sample size; it does not create data, nor does it fill in\n",
        "holes in a existing data set. It merely informs us about how lots of additional samples would behave when drawn\n",
        "from a population like our original sample."
      ]
    },
    {
      "cell_type": "markdown",
      "metadata": {
        "collapsed": false,
        "id": "IEtGHrVrQPzs"
      },
      "source": [
        "## Resampling Versus Bootstrapping\n",
        "- Resampling includes permutation procedures.\n",
        "- Bootstrap always implies sampling with replacement from an observed data set"
      ]
    },
    {
      "cell_type": "code",
      "metadata": {
        "execution": {
          "iopub.execute_input": "2021-02-23T13:54:58.810477Z",
          "iopub.status.busy": "2021-02-23T13:54:58.810013Z",
          "iopub.status.idle": "2021-02-23T13:55:00.128015Z",
          "shell.execute_reply": "2021-02-23T13:55:00.127543Z"
        },
        "scrolled": false,
        "id": "pKwuovWDQPzs",
        "outputId": "bfdef930-7af2-4dea-deeb-5ccbb141fe29"
      },
      "source": [
        "results = []\n",
        "for nrepeat in range(1000):\n",
        "    sample = resample(loans_income)\n",
        "    results.append(sample.median())\n",
        "results = pd.Series(results)\n",
        "print('Bootstrap Statistics:')\n",
        "print(f'original: {loans_income.median()}')\n",
        "print(f'bias: {results.mean() - loans_income.median()}') #jrv: I dunno where this bias definition comes from\n",
        "print(f'std. error: {results.std()}')   #jrv: the std.error here is the std.deviation of the median over\n",
        "                                        # many samples"
      ],
      "execution_count": null,
      "outputs": [
        {
          "name": "stdout",
          "output_type": "stream",
          "text": [
            "Bootstrap Statistics:\n",
            "original: 62000.0\n",
            "bias: -71.64899999999761\n",
            "std. error: 213.3286992716473\n"
          ]
        }
      ]
    },
    {
      "cell_type": "markdown",
      "metadata": {
        "id": "Zi56p7BJQPzt"
      },
      "source": [
        "# Confidence Intervals\n",
        "Ways to understand the potential error in a sample estimate:\n",
        "- Frequency tables\n",
        "- Histograms\n",
        "- Boxplots\n",
        "- Standard Errors\n",
        "- **Confidence intervals**\n",
        "\n",
        "90% confidence interval MEANS that this interval has the central 90% of the bootstrap sampling distribution of\n",
        "sample statistic.\n",
        "90% confidence interval DOES NOT MEAN that there is 90% probability that a certain value will be in that interval.\n",
        "\"Given a sample result, what is the probability that the population...?\" => that needs more complex calculations.\n",
        "*Level of confidence* is the percentage associated with the confidence interval. Higher Level of confidence means\n",
        "wider interval. If you have little data and want to be more confident then you have to make your confidence interval\n",
        "wider.\n",
        "For a Data Scientist the confidence interval is used to get an idea of how variable a sample result might be. It is\n",
        "useful to communicate the potential error in an estimate and maybe to see if you need a bigger sample.\n",
        "Bootstrap is an effective way to construct confidence intervals."
      ]
    },
    {
      "cell_type": "code",
      "metadata": {
        "execution": {
          "iopub.execute_input": "2021-02-23T13:55:00.137361Z",
          "iopub.status.busy": "2021-02-23T13:55:00.136868Z",
          "iopub.status.idle": "2021-02-23T13:55:00.379845Z",
          "shell.execute_reply": "2021-02-23T13:55:00.379330Z"
        },
        "id": "V3ZFtTQhQPzt",
        "outputId": "df8d24f8-b107-49bb-cb11-0834b94066cf"
      },
      "source": [
        "print(\"This is the mean of all loans: \", loans_income.mean())\n",
        "np.random.seed(seed=3)  \n",
        "# create a sample of 20 loan income data\n",
        "sample20 = resample(loans_income, n_samples=20, replace=False)\n",
        "print(\"This is the mean of a sample of 20 loans: \", sample20.mean())\n",
        "\n",
        "results = []\n",
        "for nrepeat in range(500): #here I am doing bootstrap taking 500 samples with replacement from the\n",
        "                            #original sample20\n",
        "    sample = resample(sample20)\n",
        "    results.append(sample.mean())\n",
        "results = pd.Series(results)\n",
        "\n",
        "confidence_interval = list(results.quantile([0.05, 0.95]))\n",
        "ax = results.plot.hist(bins=30, figsize=(4, 3)) #plotea el histogram\n",
        "ax.plot(confidence_interval, [55, 55], color='black') # plotea las lineas negras del confidence_interval\n",
        "for x in confidence_interval:\n",
        "    ax.plot([x, x], [0, 65], color='black')\n",
        "    ax.text(x, 70, f'{x:.0f}', horizontalalignment='center', verticalalignment='center')\n",
        "ax.text(sum(confidence_interval) / 2, 60, '90% interval',\n",
        "        horizontalalignment='center', verticalalignment='center')\n",
        "\n",
        "meanIncome = results.mean()\n",
        "print(\"This is the mean of the 500 means of the sample of 20 loans: \", meanIncome)\n",
        "\n",
        "ax.plot([meanIncome, meanIncome], [0, 50], color='black', linestyle='--')\n",
        "ax.text(meanIncome, 10, f'Mean: {meanIncome:.0f}',\n",
        "        bbox=dict(facecolor='white', edgecolor='white', alpha=0.5),\n",
        "        horizontalalignment='center', verticalalignment='center')\n",
        "ax.set_ylim(0, 80)\n",
        "ax.set_ylabel('Counts')\n",
        "\n",
        "plt.tight_layout()\n",
        "plt.show()"
      ],
      "execution_count": null,
      "outputs": [
        {
          "name": "stdout",
          "output_type": "stream",
          "text": [
            "This is the mean of all loans:  68760.51844\n",
            "This is the mean of a sample of 20 loans:  55734.1\n",
            "This is the mean of the 500 means of the sample of 20 loans:  55835.849599999994\n"
          ]
        },
        {
          "data": {
            "text/plain": "<Figure size 288x216 with 1 Axes>",
            "image/png": "[encoded data removed]"
          },
          "metadata": {
            "needs_background": "light"
          },
          "output_type": "display_data"
        }
      ]
    },
    {
      "cell_type": "code",
      "metadata": {
        "execution": {
          "iopub.execute_input": "2021-02-23T13:55:00.388490Z",
          "iopub.status.busy": "2021-02-23T13:55:00.387907Z",
          "iopub.status.idle": "2021-02-23T13:55:00.642464Z",
          "shell.execute_reply": "2021-02-23T13:55:00.642056Z"
        },
        "id": "yDiLuFYIQPzu",
        "outputId": "d77031a8-ef01-426c-ee52-d85d8a735c11"
      },
      "source": [
        "np.random.seed(seed=3)\n",
        "# create a sample of 20 loan income data\n",
        "sample20 = resample(loans_income, n_samples=20, replace=False)\n",
        "\n",
        "results = []\n",
        "for nrepeat in range(500):\n",
        "    sample = resample(sample20)\n",
        "    results.append(sample.mean())\n",
        "results = pd.Series(results)\n",
        "\n",
        "confidence_interval = list(results.quantile([0.05, 0.95]))\n",
        "ax = results.plot.hist(bins=30, figsize=(4, 3), color='C1')\n",
        "ax.plot(confidence_interval, [55, 55], color='black', linestyle='--')\n",
        "for x in confidence_interval:\n",
        "    ax.plot([x, x], [0, 60], color='black')\n",
        "ax.text(82000, 50, \n",
        "        f'90% CI\\n[{confidence_interval[0]:.0f}, {confidence_interval[1]:.0f}]',\n",
        "       fontsize='small')\n",
        "\n",
        "confidence_interval = list(results.quantile([0.025, 0.975]))\n",
        "ax = results.plot.hist(bins=30, figsize=(4, 3))\n",
        "ax.plot(confidence_interval, [65, 65], color='black', linestyle='--')\n",
        "for x in confidence_interval:\n",
        "    ax.plot([x, x], [0, 70], color='black')\n",
        "ax.text(82000, 65, \n",
        "        f'95% CI\\n[{confidence_interval[0]:.0f}, {confidence_interval[1]:.0f}]',\n",
        "       fontsize='small')\n",
        "# ax.text(sum(confidence_interval) / 2, 264, '95 % interval',\n",
        "#         horizontalalignment='center', verticalalignment='center')\n",
        "\n",
        "meanIncome = results.mean()\n",
        "ax.plot([meanIncome, meanIncome], [0, 50], color='black', linestyle='--')\n",
        "ax.text(meanIncome, 5, f'Mean: {meanIncome:.0f}',\n",
        "        bbox=dict(facecolor='white', edgecolor='white', alpha=0.5),\n",
        "        horizontalalignment='center', verticalalignment='center')\n",
        "ax.set_ylim(0, 80)\n",
        "ax.set_xlim(37000, 102000)\n",
        "ax.set_xticks([40000, 50000, 60000, 70000, 80000])\n",
        "ax.set_ylabel('Counts')\n",
        "\n",
        "# plt.tight_layout()\n",
        "# plt.show()"
      ],
      "execution_count": null,
      "outputs": [
        {
          "data": {
            "text/plain": "Text(0, 0.5, 'Counts')"
          },
          "execution_count": 10,
          "metadata": {},
          "output_type": "execute_result"
        },
        {
          "data": {
            "text/plain": "<Figure size 288x216 with 1 Axes>",
            "image/png": "[encoded data removed]"
          },
          "metadata": {
            "needs_background": "light"
          },
          "output_type": "display_data"
        }
      ]
    },
    {
      "cell_type": "markdown",
      "metadata": {
        "id": "h_npr5oEQPzu"
      },
      "source": [
        "# Normal Distribution\n",
        "Some key terms:\n",
        "- Error: difference between data point and a predicted or average value.\n",
        "- Standardize: subtract the mean and divide by the standard deviation.\n",
        "- z-score: the result of standardizing an individual data point.\n",
        "- Standard normal: a normal distribution with mean = 0 and std.deviation = 1.\n",
        "- QQ-Plot: A plot to see how close a sample distribution is to a specified distribution.\n",
        "\n",
        "\n",
        "| Thingie   |     the distribution is often normal      |\n",
        "|----------|:-------------:|\n",
        "| Raw data | No  |\n",
        "| Error, average, other statistics |    Yes |\n",
        "\n",
        "\n",
        "## Standard Normal and QQ-Plots\n",
        "\n",
        "The QQ-Plot has each z-score in the y-axis and the x-asis corresponds to the quantile of a normal distribution\n",
        "(or other distribution if wanted). Better explained in StatQuest https://www.youtube.com/watch?v=okjYjClSjOg&t=213s\n",
        "\n",
        "\n",
        "The package _scipy_ has the function (`scipy.stats.probplot`) to create QQ-plots.\n",
        "The argument `dist` specifies the\n",
        "distribution, which is set by default to the normal distribution."
      ]
    },
    {
      "cell_type": "code",
      "metadata": {
        "execution": {
          "iopub.execute_input": "2021-02-23T13:55:00.690257Z",
          "iopub.status.busy": "2021-02-23T13:55:00.689498Z",
          "iopub.status.idle": "2021-02-23T13:55:00.794644Z",
          "shell.execute_reply": "2021-02-23T13:55:00.794937Z"
        },
        "id": "Bx0EaajQQPzu",
        "outputId": "78bc723f-7d9a-4a86-b997-aff9b430d8fe"
      },
      "source": [
        "fig, ax = plt.subplots(figsize=(4, 4))\n",
        "\n",
        "norm_sample = stats.norm.rvs(size=100) #stats.uniform.rvs(size=100)\n",
        "\n",
        "stats.probplot(norm_sample, plot=ax)\n",
        "\n",
        "plt.tight_layout()\n",
        "plt.show()"
      ],
      "execution_count": null,
      "outputs": [
        {
          "data": {
            "text/plain": "<Figure size 288x288 with 1 Axes>",
            "image/png": "[encoded data removed]"
          },
          "metadata": {
            "needs_background": "light"
          },
          "output_type": "display_data"
        }
      ]
    },
    {
      "cell_type": "markdown",
      "metadata": {
        "id": "y9DwbXxqQPzv"
      },
      "source": [
        "# Long-Tailed Distributions\n",
        "Key terms:\n",
        "- Tail: the long narrow portion of a frequency distribution, where relatively extreme values occur at low\n",
        "frequency\n",
        "- Skew: where one tail of a distribution is longer thatn the other."
      ]
    },
    {
      "cell_type": "code",
      "metadata": {
        "execution": {
          "iopub.execute_input": "2021-02-23T13:55:00.800323Z",
          "iopub.status.busy": "2021-02-23T13:55:00.799447Z",
          "iopub.status.idle": "2021-02-23T13:55:01.658051Z",
          "shell.execute_reply": "2021-02-23T13:55:01.658434Z"
        },
        "id": "QtESAgXEQPzv",
        "outputId": "2c01ecf4-0a92-4d2a-d97d-c3290aaeb55e"
      },
      "source": [
        "sp500_px = pd.read_csv(SP500_DATA_CSV)\n",
        "\n",
        "nflx = sp500_px.NFLX\n",
        "nflx = np.diff(np.log(nflx[nflx>0]))\n",
        "\n",
        "fig, ax = plt.subplots(figsize=(4, 4))\n",
        "stats.probplot(nflx, plot=ax)\n",
        "\n",
        "plt.tight_layout()\n",
        "plt.show()"
      ],
      "execution_count": null,
      "outputs": [
        {
          "data": {
            "text/plain": "<Figure size 288x288 with 1 Axes>",
            "image/png": "[encoded data removed]"
          },
          "metadata": {
            "needs_background": "light"
          },
          "output_type": "display_data"
        }
      ]
    },
    {
      "cell_type": "code",
      "metadata": {
        "pycharm": {
          "name": "#%%\n"
        },
        "id": "NfLx5gwPQPzv",
        "outputId": "4fdb090a-10fc-4d08-8af2-6f206ac076f8"
      },
      "source": [
        "\n",
        "sp500_px = pd.read_csv(SP500_DATA_CSV)\n",
        "nflx = sp500_px.NFLX\n",
        "ax = nflx.plot.hist(by=None, bins=1000)\n",
        "ax.set_xlabel('NFLX is long tailed in both sides')\n",
        "\n",
        "plt.tight_layout()\n",
        "plt.show()"
      ],
      "execution_count": null,
      "outputs": [
        {
          "data": {
            "text/plain": "<Figure size 432x288 with 1 Axes>",
            "image/png": "[encoded data removed]"
          },
          "metadata": {
            "needs_background": "light"
          },
          "output_type": "display_data"
        }
      ]
    },
    {
      "cell_type": "markdown",
      "metadata": {
        "collapsed": false,
        "id": "GNofzGyHQPzw"
      },
      "source": [
        "# Student's t-Distribution\n",
        "\n",
        "The t-distribution is actually a family of distributions resembling the normal distribution but with\n",
        "thicker tails.\n",
        "It is much used as a reference for the distribution of sample means, differences between two sample\n",
        "means, regression parameters, and more.\n",
        "Note: the t-distribution is not central to the purposes of data science. Understanding and\n",
        "quantifying  uncertainty and variation are important to data scientists, but empirical bootstrap\n",
        "sampling can answer most questions about sampling error.\n",
        "However, Data scientists will routinely.\n",
        "encounter t-statistics in output from statistical software in T, like in A/B tests and regression,\n",
        "so familiarity with it is helpful."
      ]
    },
    {
      "cell_type": "markdown",
      "metadata": {
        "id": "MZRPedbwQPzw"
      },
      "source": [
        "# Binomial Distribution\n",
        "A trial is an event with a discrete outcome. If it has two outcomes then it is binomial.\n",
        "Binomial outcomes are important to model, since they represent, basic decisions like sell/buy, ...\n",
        "The binomial distribution is the frequency distribution of the number of successes (x) in a given\n",
        "number of trials (n) with specified probability (p) of success in each trial.\n",
        "A binomial trial is an experiment with two possible outcomes: one with probability p and the other\n",
        "one with probability 1-p.\n",
        "With large n, and provided p  is not too close to 0 or 1, the binomial distribution can be approximated\n",
        "by the normal distribution."
      ]
    },
    {
      "cell_type": "code",
      "metadata": {
        "execution": {
          "iopub.execute_input": "2021-02-23T13:55:01.662954Z",
          "iopub.status.busy": "2021-02-23T13:55:01.662413Z",
          "iopub.status.idle": "2021-02-23T13:55:01.666378Z",
          "shell.execute_reply": "2021-02-23T13:55:01.665951Z"
        },
        "id": "5EFwxtrHQPzw",
        "outputId": "6c5d98a2-bd8b-4b30-f2f8-4dce8b9dc4c1"
      },
      "source": [
        "# see what this does if ever relevant in book\n",
        "print(stats.binom.pmf(2, n=5, p=0.1))"
      ],
      "execution_count": null,
      "outputs": [
        {
          "name": "stdout",
          "output_type": "stream",
          "text": [
            "0.0729\n"
          ]
        }
      ]
    },
    {
      "cell_type": "code",
      "metadata": {
        "execution": {
          "iopub.execute_input": "2021-02-23T13:55:01.670225Z",
          "iopub.status.busy": "2021-02-23T13:55:01.669630Z",
          "iopub.status.idle": "2021-02-23T13:55:01.673236Z",
          "shell.execute_reply": "2021-02-23T13:55:01.673532Z"
        },
        "id": "30OlHR-yQPzw",
        "outputId": "17dc329b-86d6-40b5-c7da-10ccc05a37a6"
      },
      "source": [
        "# see what this does if ever relevant in book\n",
        "print(stats.binom.cdf(2, n=5, p=0.1))"
      ],
      "execution_count": null,
      "outputs": [
        {
          "name": "stdout",
          "output_type": "stream",
          "text": [
            "0.99144\n"
          ]
        }
      ]
    },
    {
      "cell_type": "markdown",
      "metadata": {
        "collapsed": false,
        "id": "ZLNHU0SwQPzx"
      },
      "source": [
        "# Chi-square Distribution\n",
        "Expectation = \"null hypothesis\" = \"null model\" = nothing unusual or of note in the data.\n",
        "A Chi-square statistic is a measure of the extent to which a set of observed values \"fits\" a\n",
        "specified distribution. It measures the extent of departure from what you would expect in a\n",
        " null model.\n",
        " Example: practical to see the possible different effects of treatments in A/B testing.\n",
        "The chi-square distribution is typically concerned with counts of subjects or items falling\n",
        " categories.\n"
      ]
    },
    {
      "cell_type": "markdown",
      "metadata": {
        "collapsed": false,
        "id": "VkvR3BL3QPzx"
      },
      "source": [
        "# F-Distribution\n",
        "The F-distribution is used with experiments and linear models involving measured data.\n",
        "The F-statistic compares variation due to factors of interest to overall variation."
      ]
    },
    {
      "cell_type": "markdown",
      "metadata": {
        "id": "QOP3ccGIQPzx"
      },
      "source": [
        "# Poisson and Related Distribution\n",
        "## Poisson Distributions\n",
        "The Poisson distribution tells us the distribution of events per unit of time or space when we\n",
        "sample many such units.\n",
        "$\\lambda$, Lambda is the mean number of events that occurs in a specified interval of time or space.\n",
        "The variance of a Poisson distribution is also Lambda."
      ]
    },
    {
      "cell_type": "code",
      "metadata": {
        "execution": {
          "iopub.execute_input": "2021-02-23T13:55:01.695564Z",
          "iopub.status.busy": "2021-02-23T13:55:01.691140Z",
          "iopub.status.idle": "2021-02-23T13:55:01.780332Z",
          "shell.execute_reply": "2021-02-23T13:55:01.779713Z"
        },
        "id": "e2mHjlttQPzx",
        "outputId": "cfafa14d-cc70-4502-933f-8c6a35e82a54"
      },
      "source": [
        "#this code will generate 100 random numbers from a Poisson distribution with Lambda = 2, for example,\n",
        "#incoming customer service calls average 2 per minute, this code will simulate 100 minutes\n",
        "sample = stats.poisson.rvs(2, size=100)\n",
        "\n",
        "pd.Series(sample).plot.hist(bins=10)\n",
        "plt.show()"
      ],
      "execution_count": null,
      "outputs": [
        {
          "data": {
            "text/plain": "<Figure size 432x288 with 1 Axes>",
            "image/png": "[encoded data removed]"
          },
          "metadata": {
            "needs_background": "light"
          },
          "output_type": "display_data"
        }
      ]
    },
    {
      "cell_type": "markdown",
      "metadata": {
        "id": "7ZaNBbaKQPzy"
      },
      "source": [
        "## Exponential Distribution\n",
        "Exponential distributions can be used to model the time or distance between one event and\n",
        "the next."
      ]
    },
    {
      "cell_type": "code",
      "metadata": {
        "pycharm": {
          "name": "#%%\n"
        },
        "id": "wlX5BcUzQPzy"
      },
      "source": [
        "#this code would generate 100 random numbers from an exponential distribution  where the mean\n",
        "# number of events per time period is 0.2 (1/0.2 = 5). So you could use it to simulate 100 intervals, in\n",
        "# minutes, between service calls, where the average rate of incoming calls is 0.2 per minute.\n",
        "sample = stats.expon.rvs(scale=5, size=100)\n",
        "\n",
        "pd.Series(sample).plot.hist()\n",
        "plt.show()"
      ],
      "execution_count": null,
      "outputs": []
    },
    {
      "cell_type": "markdown",
      "metadata": {
        "collapsed": false,
        "id": "pmfbpwstQPzy"
      },
      "source": [
        "## Estimating the Failure Rate\n",
        "Via simulation, or direct calculation of probabilities, you can assess different hypothetical event\n",
        " rates and estimate threshold values below which the rate is very unlikely to fall\n"
      ]
    },
    {
      "cell_type": "markdown",
      "metadata": {
        "id": "XKsrvPhWQPzy"
      },
      "source": [
        "##  Weibull Distribution\n",
        "The Weibull Distribution is used with a changing event rate over time (e.g., an increasing probability\n",
        "of device failure).\n",
        "How the event rate changes is specified by $\\beta$. If $\\beta$>1 the probability of an event increases\n",
        "over time and if $\\beta$<1 the probability of an event decreases over time"
      ]
    },
    {
      "cell_type": "code",
      "metadata": {
        "execution": {
          "iopub.execute_input": "2021-02-23T13:55:01.895301Z",
          "iopub.status.busy": "2021-02-23T13:55:01.894738Z",
          "iopub.status.idle": "2021-02-23T13:55:01.977617Z",
          "shell.execute_reply": "2021-02-23T13:55:01.977297Z"
        },
        "scrolled": true,
        "pycharm": {
          "name": "#%%\n"
        },
        "id": "i2V40aNVQPzy",
        "outputId": "2644943b-231b-4dcf-d37e-45e37196d752"
      },
      "source": [
        "sample = stats.weibull_min.rvs(1.5, scale=5000, size=100)\n",
        "\n",
        "pd.Series(sample).plot.hist()\n",
        "plt.show()\n"
      ],
      "execution_count": null,
      "outputs": [
        {
          "data": {
            "text/plain": "<Figure size 432x288 with 1 Axes>",
            "image/png": "[encoded data removed]"
          },
          "metadata": {
            "needs_background": "light"
          },
          "output_type": "display_data"
        }
      ]
    }
  ]
}